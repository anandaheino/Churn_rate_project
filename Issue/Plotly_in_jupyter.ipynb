{
 "cells": [
  {
   "cell_type": "markdown",
   "id": "ecb77f04-4a56-443a-b07e-23c9ea5540da",
   "metadata": {},
   "source": [
    "## 1. Install plotly \n",
    "- directly on jupyter (using the code below)\n",
    "- or at your Anaconda Navigator \n",
    "- or using the terminal "
   ]
  },
  {
   "cell_type": "code",
   "execution_count": 1,
   "id": "faa62f95-0c2d-4c3b-9a4c-e5d9d6eb8a71",
   "metadata": {},
   "outputs": [
    {
     "name": "stdout",
     "output_type": "stream",
     "text": [
      "Requirement already satisfied: plotly in c:\\users\\anand\\anaconda3\\envs\\farmbits_2\\lib\\site-packages (5.3.1)\n",
      "Requirement already satisfied: tenacity>=6.2.0 in c:\\users\\anand\\anaconda3\\envs\\farmbits_2\\lib\\site-packages (from plotly) (8.0.1)\n",
      "Requirement already satisfied: six in c:\\users\\anand\\anaconda3\\envs\\farmbits_2\\lib\\site-packages (from plotly) (1.15.0)\n"
     ]
    }
   ],
   "source": [
    "!pip install plotly"
   ]
  },
  {
   "cell_type": "markdown",
   "id": "45046661-68ef-4524-8c88-a49112b9d8e2",
   "metadata": {},
   "source": [
    "## 2. Run the code below, from [Plotly in Jupyter issue](https://stackoverflow.com/questions/36959782/plotly-in-jupyter-issue/54711190#54711190?newreg=b961e371cfd84ad693679f00f6b3dcb7)"
   ]
  },
  {
   "cell_type": "code",
   "execution_count": null,
   "id": "0ac4974f-d9e7-4053-9347-92b7309396ce",
   "metadata": {},
   "outputs": [],
   "source": [
    "import sys\n",
    "!conda install --yes --prefix {sys.prefix} plotly"
   ]
  },
  {
   "cell_type": "markdown",
   "id": "1d78caa7-834d-4a45-a679-15e5f44ee49e",
   "metadata": {},
   "source": [
    "## 3. Now the import works"
   ]
  },
  {
   "cell_type": "code",
   "execution_count": null,
   "id": "3a96398b-2473-4ff5-8841-342bbd40e9cb",
   "metadata": {},
   "outputs": [],
   "source": [
    "import plotly.express as px"
   ]
  }
 ],
 "metadata": {
  "kernelspec": {
   "display_name": "Python 3",
   "language": "python",
   "name": "python3"
  },
  "language_info": {
   "codemirror_mode": {
    "name": "ipython",
    "version": 3
   },
   "file_extension": ".py",
   "mimetype": "text/x-python",
   "name": "python",
   "nbconvert_exporter": "python",
   "pygments_lexer": "ipython3",
   "version": "3.8.8"
  }
 },
 "nbformat": 4,
 "nbformat_minor": 5
}
